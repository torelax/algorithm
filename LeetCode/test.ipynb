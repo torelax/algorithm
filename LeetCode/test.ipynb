{
 "cells": [
  {
   "cell_type": "code",
   "execution_count": 17,
   "metadata": {},
   "outputs": [],
   "source": [
    "class Solution:\n",
    "    mem = {}\n",
    "    def findRotateSteps(self, ring: str, key: str) -> int:\n",
    "        if key == '':\n",
    "            return 0\n",
    "        # todo mem\n",
    "        if self.mem[ring][key[0]-'a']:\n",
    "            left, lring, right, rring = self.mem[ring][key[0]]\n",
    "        else:\n",
    "            left, lring = self.whirl(ring, True, key[0])\n",
    "            right, rring = self.whirl(ring, False, key[0])\n",
    "            self.mem[ring][key[0]] = (left,lring,right,rring)\n",
    "        if lring == rring:\n",
    "            return min(left, right) + self.findRotateSteps(lring, key[1:]) + 1\n",
    "        else:\n",
    "            return min(left + self.findRotateSteps(lring, key[1:]), right + self.findRotateSteps(rring, key[1:])) + 1\n",
    "    def whirl(self, ring: str, left: bool, c: str):\n",
    "        l = len(ring)\n",
    "        if left:\n",
    "            for i in range(l):\n",
    "                if ring[-i] == c:\n",
    "                    return i, ring[l-i:] + ring[:l-i]\n",
    "        else:\n",
    "            for i in range(l):\n",
    "                if ring[i] == c:\n",
    "                    return i, ring[i:] + ring[:i]\n"
   ]
  },
  {
   "cell_type": "code",
   "execution_count": 18,
   "metadata": {},
   "outputs": [
    {
     "name": "stdout",
     "output_type": "stream",
     "text": [
      "[[]]\n",
      "[[]]\n",
      "[[]]\n",
      "[[]]\n",
      "[[]]\n",
      "[[]]\n",
      "[[]]\n",
      "[[]]\n",
      "[[]]\n",
      "[[]]\n",
      "[[]]\n",
      "[[]]\n",
      "[[]]\n",
      "[[]]\n",
      "[[]]\n"
     ]
    }
   ],
   "source": [
    "ss = Solution()\n",
    "r = ss.findRotateSteps('abcde', 'ade')"
   ]
  },
  {
   "cell_type": "code",
   "execution_count": 61,
   "metadata": {},
   "outputs": [
    {
     "name": "stdout",
     "output_type": "stream",
     "text": [
      "<__main__.Solution object at 0x000002066CA96A90>\n"
     ]
    }
   ],
   "source": [
    "class Solution:\n",
    "    def tilingRectangle(self, n: int, m: int) -> int:\n",
    "        area = n * m\n",
    "        k = min(n, m)\n",
    "        self.dp = [[j for i in range(k+1)] for j in range(area+1)]\n",
    "        # for i in range(area+1):\n",
    "        #     dp[i][0] = 0\n",
    "        # 加公因数\n",
    "        # gcd(area)\n",
    "        for i in range(4, area+1):\n",
    "            for j in range(2, k+1):\n",
    "                if i-j**2 < 0:\n",
    "                    # self.dp[i][j] = self.dp[i][j-1]\n",
    "                    break\n",
    "                else:\n",
    "                    self.dp[i][j] = min(self.dp[i-j**2][j]+1, self.dp[i][j-1])\n",
    "\n",
    "        return self.dp[area][k]\n",
    "a = Solution()\n",
    "a.tilingRectangle(3,4)\n",
    "print(a)"
   ]
  },
  {
   "cell_type": "code",
   "execution_count": 11,
   "metadata": {},
   "outputs": [],
   "source": [
    "from typing import List\n",
    "def num(queries: List[str], words: List[str]) -> List[int]:\n",
    "        answer = []\n",
    "\n",
    "        def searchN(str):\n",
    "            _c, num = str[0], 0\n",
    "            for c in str:\n",
    "                if c < _c:\n",
    "                    num = 1\n",
    "                    _c = c\n",
    "                elif c == _c:\n",
    "                    num += 1\n",
    "            return num\n",
    "        mem = [0] * 11\n",
    "        for str in words:\n",
    "            n = searchN(str)\n",
    "            print(n)\n",
    "            for i in range(n):\n",
    "                mem[i] += 1\n",
    "        print(mem)\n",
    "        for q in queries:\n",
    "            c = searchN(q)\n",
    "            answer.append(mem[c])\n",
    "        return answer"
   ]
  }
 ],
 "metadata": {
  "kernelspec": {
   "display_name": "base",
   "language": "python",
   "name": "python3"
  },
  "language_info": {
   "codemirror_mode": {
    "name": "ipython",
    "version": 3
   },
   "file_extension": ".py",
   "mimetype": "text/x-python",
   "name": "python",
   "nbconvert_exporter": "python",
   "pygments_lexer": "ipython3",
   "version": "3.8.11"
  },
  "orig_nbformat": 4
 },
 "nbformat": 4,
 "nbformat_minor": 2
}
