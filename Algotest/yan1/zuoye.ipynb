{
 "cells": [
  {
   "cell_type": "code",
   "execution_count": 1,
   "metadata": {},
   "outputs": [
    {
     "data": {
      "text/plain": [
       "506"
      ]
     },
     "execution_count": 1,
     "metadata": {},
     "output_type": "execute_result"
    }
   ],
   "source": [
    "m, d = 5, 10\n",
    "dp = [0 for i in range(d+1)]\n",
    "dp[0] = 50\n",
    "for i in range(1, d+1):\n",
    "    c = dp[i-1] // 50 if 8 * (d - i + 1) > 50 else 0\n",
    "    m += c\n",
    "    dp[i] = dp[i-1] + 8 * m- 50 * c\n",
    "dp[d]"
   ]
  },
  {
   "cell_type": "code",
   "execution_count": 5,
   "metadata": {},
   "outputs": [
    {
     "data": {
      "text/plain": [
       "1"
      ]
     },
     "execution_count": 5,
     "metadata": {},
     "output_type": "execute_result"
    }
   ],
   "source": [
    "s = [[4,6], [1,7], [2,3], [3,4]]\n",
    "s.sort(key=lambda x:x[1])\n",
    "last, res = -1000, len(s)\n",
    "for i in s:\n",
    "    if i[0] >= last:\n",
    "        last = i[1]\n",
    "        res -= 1\n",
    "res"
   ]
  },
  {
   "cell_type": "code",
   "execution_count": 2,
   "metadata": {},
   "outputs": [
    {
     "name": "stdout",
     "output_type": "stream",
     "text": [
      "0 [3, 2, 1, 2, 2]\t1 [3, 2, 3, 1, 3]\t2 [1, 2, 3, 3, 2]\t3 [2, 1, 2, 3, 1]\t"
     ]
    }
   ],
   "source": [
    "arry = [\n",
    "    [3, 2, 1, 2, 2],\n",
    "    [3, 2, 3, 1, 3],\n",
    "    [1, 2, 3, 3, 2],\n",
    "    [2, 1, 2, 3, 1]\n",
    "]\n",
    "n, m = 4, 5\n",
    "deep = [[0 for i in range(5)] for i in range(4)]\n",
    "def deep():\n",
    "    return \n",
    "\n",
    "d = 0\n",
    "\n",
    "for i, a in enumerate(arry):\n",
    "    for j, c in enumerate(a):\n",
    "        if c == 3:\n",
    "            if arry[i][j-1] == 3:\n",
    "                deep[i][j] = \n"
   ]
  },
  {
   "cell_type": "code",
   "execution_count": 8,
   "metadata": {},
   "outputs": [
    {
     "data": {
      "text/plain": [
       "0"
      ]
     },
     "execution_count": 8,
     "metadata": {},
     "output_type": "execute_result"
    }
   ],
   "source": [
    "# 回溯\n",
    "arry = [\n",
    "    [3, 2, 1, 2, 2],\n",
    "    [3, 2, 3, 1, 3],\n",
    "    [1, 2, 3, 3, 2],\n",
    "    [2, 1, 2, 3, 1]\n",
    "]\n",
    "n, m = 4, 5\n",
    "vis =  [[0 for i in range(5)] for i in range(4)]\n",
    "def search(i, j):\n",
    "    if i >= n or i < 0 or j < 0 or j >= m or vis[i][j]:\n",
    "        return 0\n",
    "    if arry[i][j] == 3:\n",
    "        vis[i][j] = 1\n",
    "        return 1  + search(i-1, j) + search(i, j + 1) + search(i, j - 1) + search(i + 1, j)\n",
    "    else: return 0\n",
    "\n",
    "ma = 0\n",
    "\n",
    "for i in range(n):\n",
    "    for j in range(m):\n",
    "            # search(i, j)\n",
    "            ma = max(ma, search(i, j))\n",
    "ma"
   ]
  }
 ],
 "metadata": {
  "interpreter": {
   "hash": "421b3c35f99c3543ae18e636e10dfbeda8e16b1b09aba925f5b1806db69fd896"
  },
  "kernelspec": {
   "display_name": "Python 3.9.5 ('base')",
   "language": "python",
   "name": "python3"
  },
  "language_info": {
   "codemirror_mode": {
    "name": "ipython",
    "version": 3
   },
   "file_extension": ".py",
   "mimetype": "text/x-python",
   "name": "python",
   "nbconvert_exporter": "python",
   "pygments_lexer": "ipython3",
   "version": "3.9.5"
  },
  "orig_nbformat": 4
 },
 "nbformat": 4,
 "nbformat_minor": 2
}
