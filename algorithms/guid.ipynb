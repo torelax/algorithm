{
 "cells": [
  {
   "cell_type": "code",
   "execution_count": 8,
   "metadata": {},
   "outputs": [
    {
     "data": {
      "text/plain": [
       "9"
      ]
     },
     "execution_count": 8,
     "metadata": {},
     "output_type": "execute_result"
    }
   ],
   "source": [
    "N, mod = 1000, 100000\n",
    "# dp = [[-1]*N] * N # 浅拷贝\n",
    "dp = [[-1 for i in range(N)] for i in range(N)]\n",
    "# if ds == dp:\n",
    "#     print('hahahahah')\n",
    "def dfs(pre, cur):\n",
    "    if cur <= 0:\n",
    "        return 0\n",
    "    if dp[pre][cur] != -1:\n",
    "        return dp[pre][cur]\n",
    "    dp[pre][cur] = (1+dfs(pre, cur-1) + dfs(cur, abs(pre-cur)-1)) % mod\n",
    "    return dp[pre][cur]\n",
    "dfs(4, 4)"
   ]
  },
  {
   "cell_type": "code",
   "execution_count": 21,
   "metadata": {},
   "outputs": [
    {
     "data": {
      "text/plain": [
       "7"
      ]
     },
     "execution_count": 21,
     "metadata": {},
     "output_type": "execute_result"
    }
   ],
   "source": [
    "mem=[[0 for i in range(4+1)] for i in range(4+1)]\n",
    "def dfs(pre,cur):\n",
    "    if cur<=0:\n",
    "        return 0\n",
    "    if mem[pre][cur]!=0:\n",
    "        return mem[pre][cur]%10000\n",
    "    mem[pre][cur]=(1+dfs(pre,cur-1)+dfs(cur,abs(pre-cur)-1))%10000\n",
    "    return mem[pre][cur]\n",
    "\n",
    "dfs(4, 4)"
   ]
  },
  {
   "cell_type": "code",
   "execution_count": 4,
   "metadata": {},
   "outputs": [
    {
     "data": {
      "text/plain": [
       "''"
      ]
     },
     "execution_count": 4,
     "metadata": {},
     "output_type": "execute_result"
    }
   ],
   "source": [
    "class Solution:\n",
    "    def minWindow(self, s: str, t: str) -> str:\n",
    "        left, right, index, b = 0, 0, 0, 0\n",
    "        _t, windows = {}, {}\n",
    "        lenth = 1000000000\n",
    "        for c in t:\n",
    "            if c in _t: _t[c] += 1\n",
    "            else:   _t[c] = 1\n",
    "        while right < len(s):\n",
    "            c = s[right]\n",
    "            if c in _t:\n",
    "                if c in windows:    windows[c] += 1\n",
    "                else:   windows[c] = 1\n",
    "                if windows[c] == _t[c]:\n",
    "                    b += 1\n",
    "            right += 1\n",
    "            while b == len(_t):\n",
    "                if right-left < lenth:\n",
    "                    lenth = right - left\n",
    "                    index = left\n",
    "                if s[left] in _t:\n",
    "                    if windows[s[left]] == _t[s[left]]:\n",
    "                        b -= 1\n",
    "                    windows[s[left]] -= 1\n",
    "                left += 1\n",
    "        return s[index : index+lenth] if index+lenth <= len(s) else ''\n",
    "Solution().minWindow('a', 'aa')"
   ]
  },
  {
   "cell_type": "code",
   "execution_count": 8,
   "metadata": {},
   "outputs": [
    {
     "data": {
      "text/plain": [
       "[1, 2, 3, 4, 5, 6, 7, 8, 9, 11, 12, 15, 22]"
      ]
     },
     "execution_count": 8,
     "metadata": {},
     "output_type": "execute_result"
    }
   ],
   "source": [
    "def selfDividingNumbers(left: int, right: int):\n",
    "    def isD(num):\n",
    "        t = num\n",
    "        while t:\n",
    "            r = t % 10\n",
    "            # print(r)\n",
    "            if r == 0 or num % r:\n",
    "                return False\n",
    "            t //= 10\n",
    "        return True\n",
    "    return [i for i in range(left, right+1) if isD(i)]\n",
    "selfDividingNumbers(1,22)"
   ]
  },
  {
   "cell_type": "code",
   "execution_count": null,
   "metadata": {},
   "outputs": [],
   "source": [
    "def findMedianSortedArrays(self, nums1, nums2) -> float:\n",
    "    p1, p2 = nums1 // 2, nums2 //2\n",
    "    r1, r2 = len(nums1), len(nums2)\n",
    "    l1 = l2 = 0\n",
    "    while p1 >= r1 or p1 <=0 or p2 <= 0 or p2 >= r2:\n",
    "        if nums1[p1] > nums2[p2]:\n",
    "            l2 = p2\n",
    "            r1 = p1\n",
    "            p2 = (l2 + r2 - 1) // 2\n",
    "            p1 += p2 - l2\n",
    "        else:\n",
    "            l1 = p1\n",
    "            p1 = (l1 + r1 - 1) // 2\n",
    "            p2 += p1 - l1\n",
    "\n",
    "findMedianSortedArrays([1,2], [3,4])\n"
   ]
  }
 ],
 "metadata": {
  "interpreter": {
   "hash": "a1c8706477cf45353939afedc8c968832c9b67c2e60562e03c2779e5bc9e0403"
  },
  "kernelspec": {
   "display_name": "Python 3.9.7 ('torch')",
   "language": "python",
   "name": "python3"
  },
  "language_info": {
   "codemirror_mode": {
    "name": "ipython",
    "version": 3
   },
   "file_extension": ".py",
   "mimetype": "text/x-python",
   "name": "python",
   "nbconvert_exporter": "python",
   "pygments_lexer": "ipython3",
   "version": "3.9.12"
  },
  "orig_nbformat": 4
 },
 "nbformat": 4,
 "nbformat_minor": 2
}
